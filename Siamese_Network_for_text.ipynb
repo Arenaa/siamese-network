{
  "nbformat": 4,
  "nbformat_minor": 0,
  "metadata": {
    "colab": {
      "provenance": [],
      "authorship_tag": "ABX9TyMF9YEXvWNRXtOls1zizNrr",
      "include_colab_link": true
    },
    "kernelspec": {
      "name": "python3",
      "display_name": "Python 3"
    },
    "language_info": {
      "name": "python"
    },
    "accelerator": "GPU",
    "gpuClass": "standard"
  },
  "cells": [
    {
      "cell_type": "markdown",
      "metadata": {
        "id": "view-in-github",
        "colab_type": "text"
      },
      "source": [
        "<a href=\"https://colab.research.google.com/github/Arenaa/siamese-network/blob/main/Siamese_Network_for_text.ipynb\" target=\"_parent\"><img src=\"https://colab.research.google.com/assets/colab-badge.svg\" alt=\"Open In Colab\"/></a>"
      ]
    },
    {
      "cell_type": "markdown",
      "source": [
        "# Downlaod dataset\n",
        "# **Microsoft Research Paraphrase Corpus**\n"
      ],
      "metadata": {
        "id": "EOR-9ivIRBrN"
      }
    },
    {
      "cell_type": "code",
      "source": [
        "!gdown  17eLq5Ng5yfbX9tLq2tdiOdscO0ea8xK5\n",
        "!gdown  1Y-68UagW14hwJXNyaR2HnML5jEwvjQlj\n",
        "!gdown  1P_HLLvGq15gsgDl5P6QYrHkTlkcytMdr"
      ],
      "metadata": {
        "colab": {
          "base_uri": "https://localhost:8080/"
        },
        "id": "5fjIf6NURLnm",
        "outputId": "cacd2ccb-9293-4190-8445-e270371bbbd9"
      },
      "execution_count": 3,
      "outputs": [
        {
          "output_type": "stream",
          "name": "stdout",
          "text": [
            "Downloading...\n",
            "From: https://drive.google.com/uc?id=17eLq5Ng5yfbX9tLq2tdiOdscO0ea8xK5\n",
            "To: /content/train.csv\n",
            "100% 951k/951k [00:00<00:00, 112MB/s]\n",
            "Downloading...\n",
            "From: https://drive.google.com/uc?id=1Y-68UagW14hwJXNyaR2HnML5jEwvjQlj\n",
            "To: /content/valid.csv\n",
            "100% 105k/105k [00:00<00:00, 92.6MB/s]\n",
            "Downloading...\n",
            "From: https://drive.google.com/uc?id=1P_HLLvGq15gsgDl5P6QYrHkTlkcytMdr\n",
            "To: /content/test.csv\n",
            "100% 444k/444k [00:00<00:00, 163MB/s]\n"
          ]
        }
      ]
    },
    {
      "cell_type": "markdown",
      "source": [
        "# Import libraries\n"
      ],
      "metadata": {
        "id": "IWjE7Yz5YSIt"
      }
    },
    {
      "cell_type": "code",
      "source": [
        "import pandas as pd\n",
        "import numpy as np\n",
        "from gensim.models import Word2Vec\n",
        "import matplotlib.pyplot as plt\n",
        "from sklearn.metrics import *\n",
        "\n",
        "from tensorflow.keras.preprocessing.text import Tokenizer\n",
        "from tensorflow.keras.preprocessing.sequence import pad_sequences\n",
        "from tensorflow.keras.models import Model\n",
        "from tensorflow.keras.layers import *\n",
        "from tensorflow.keras import optimizers, losses\n",
        "from tensorflow.keras import backend as K\n",
        "from tensorflow.keras import initializers, regularizers, constraints\n",
        "from tensorflow.keras.metrics import *\n",
        "from tensorflow.keras.utils import to_categorical\n"
      ],
      "metadata": {
        "id": "i7DHgf-_YV7b"
      },
      "execution_count": 28,
      "outputs": []
    },
    {
      "cell_type": "markdown",
      "source": [
        "# Preparing Dataset\n"
      ],
      "metadata": {
        "id": "G7r4Sc3PYcHU"
      }
    },
    {
      "cell_type": "code",
      "source": [
        "train = pd.read_csv(\"/content/train.csv\")\n",
        "valid = pd.read_csv(\"/content/valid.csv\")\n",
        "test = pd.read_csv(\"/content/test.csv\")"
      ],
      "metadata": {
        "id": "LvZ2KH3IZ5Wq"
      },
      "execution_count": 4,
      "outputs": []
    },
    {
      "cell_type": "code",
      "source": [
        "def clean_data(data):\n",
        "\n",
        "  tokenized_data = []\n",
        "\n",
        "  for d in data:\n",
        "    tokens = d.split()\n",
        "    translation_table = str.maketrans('', '', \"\\\"#$%&'()*+,-/:;<=>?@[\\]^_`{|}~،؟!❊#$٪^&*)(ـ+=-؛:{}\")\n",
        "    tokens = [w.translate(translation_table) for w in tokens]\n",
        "    tokens = [word for word in tokens if word.isalpha()]\n",
        "    tokenized_data.append(tokens)\n",
        "\n",
        "  return tokenized_data"
      ],
      "metadata": {
        "id": "aUx2hc4LaKQc"
      },
      "execution_count": 5,
      "outputs": []
    },
    {
      "cell_type": "code",
      "source": [
        "length = []\n",
        "\n",
        "for index, row in train.iterrows():\n",
        "  length.append(len(row.sentence1.split(\" \")))\n",
        "  length.append(len(row.sentence2.split(\" \")))\n",
        "\n",
        "print(np.mean(length))"
      ],
      "metadata": {
        "colab": {
          "base_uri": "https://localhost:8080/"
        },
        "id": "3htuXUh-aPin",
        "outputId": "48e2644e-b1d4-4903-dafc-de7b9d7c223e"
      },
      "execution_count": 6,
      "outputs": [
        {
          "output_type": "stream",
          "name": "stdout",
          "text": [
            "18.972063232488416\n"
          ]
        }
      ]
    },
    {
      "cell_type": "code",
      "source": [
        "MAX_SEQ_LENGTH = 20\n",
        "\n",
        "# clean data\n",
        "cleaned_train_data = clean_data(train.sentence1.append(train.sentence2))\n",
        "cleaned_valid_data = clean_data(valid.sentence1.append(valid.sentence2))\n",
        "cleaned_test_data = clean_data(test.sentence1.append(test.sentence2))\n",
        "\n",
        "# create the tokenizer and fit it on the input text\n",
        "tokenizer = Tokenizer()\n",
        "tokenizer.fit_on_texts(cleaned_train_data)\n",
        "\n",
        "# tokenize the input text into encoded numbers\n",
        "train_sequences = tokenizer.texts_to_sequences(cleaned_train_data)\n",
        "valid_sequences = tokenizer.texts_to_sequences(cleaned_valid_data)\n",
        "test_sequences = tokenizer.texts_to_sequences(cleaned_test_data)\n",
        "\n",
        "# pad the input text \n",
        "train_sequences = pad_sequences(train_sequences, maxlen=MAX_SEQ_LENGTH, padding='post')\n",
        "valid_sequences = pad_sequences(valid_sequences, maxlen=MAX_SEQ_LENGTH, padding='post')\n",
        "test_sequences = pad_sequences(test_sequences, maxlen=MAX_SEQ_LENGTH, padding='post')\n",
        "\n",
        "# separate sentence1 and sentence2\n",
        "train_sent1 = train_sequences[:len(train)]\n",
        "train_sent2 = train_sequences[len(train): len(train) * 2]\n",
        "valid_sent1 = valid_sequences[:len(valid)]\n",
        "valid_sent2 = valid_sequences[len(valid): len(valid) * 2]\n",
        "test_sent1 = test_sequences[:len(test)]\n",
        "test_sent2 = test_sequences[len(test): len(test) * 2]"
      ],
      "metadata": {
        "colab": {
          "base_uri": "https://localhost:8080/"
        },
        "id": "ntcky7cxaUEm",
        "outputId": "38d3c55d-7aa3-482b-ffe6-c02346ce1a8d"
      },
      "execution_count": 7,
      "outputs": [
        {
          "output_type": "stream",
          "name": "stderr",
          "text": [
            "<ipython-input-7-0f5545255bf0>:4: FutureWarning: The series.append method is deprecated and will be removed from pandas in a future version. Use pandas.concat instead.\n",
            "  cleaned_train_data = clean_data(train.sentence1.append(train.sentence2))\n",
            "<ipython-input-7-0f5545255bf0>:5: FutureWarning: The series.append method is deprecated and will be removed from pandas in a future version. Use pandas.concat instead.\n",
            "  cleaned_valid_data = clean_data(valid.sentence1.append(valid.sentence2))\n",
            "<ipython-input-7-0f5545255bf0>:6: FutureWarning: The series.append method is deprecated and will be removed from pandas in a future version. Use pandas.concat instead.\n",
            "  cleaned_test_data = clean_data(test.sentence1.append(test.sentence2))\n"
          ]
        }
      ]
    },
    {
      "cell_type": "code",
      "source": [
        "word_index = tokenizer.word_index\n",
        "VOCAB_SIZE = len(word_index) + 1\n",
        "EMB_SIZE = 100"
      ],
      "metadata": {
        "id": "LKuZda4uaV4_"
      },
      "execution_count": 8,
      "outputs": []
    },
    {
      "cell_type": "code",
      "source": [
        "train_words = clean_data(train.sentence1.append(train.sentence2))\n",
        "\n",
        "w2v_model = Word2Vec(train_words, min_count=1, vector_size=EMB_SIZE, window=3, sg=1)\n",
        "\n",
        "words = list(w2v_model.wv.key_to_index.keys())\n",
        "embeddings = w2v_model.wv.vectors\n",
        "\n",
        "lines = []\n",
        "for i in range(len(words)):\n",
        "    line = words[i]\n",
        "    for j in range(len(embeddings[i])):\n",
        "        line += ' '\n",
        "        line += str(embeddings[i][j])\n",
        "    lines.append(line)"
      ],
      "metadata": {
        "colab": {
          "base_uri": "https://localhost:8080/"
        },
        "id": "sU4CJ-dfaag9",
        "outputId": "01415503-14d9-4a7c-8d5a-0795395aa66f"
      },
      "execution_count": 9,
      "outputs": [
        {
          "output_type": "stream",
          "name": "stderr",
          "text": [
            "<ipython-input-9-3902b2bc69e3>:1: FutureWarning: The series.append method is deprecated and will be removed from pandas in a future version. Use pandas.concat instead.\n",
            "  train_words = clean_data(train.sentence1.append(train.sentence2))\n"
          ]
        }
      ]
    },
    {
      "cell_type": "code",
      "source": [
        "embeddings_index = {}\n",
        "\n",
        "embedding_matrix = np.random.random((VOCAB_SIZE, EMB_SIZE))\n",
        "for word, i in word_index.items():\n",
        "    embedding_vector = embeddings_index.get(word)\n",
        "    if embedding_vector is not None:\n",
        "        # words not found in embedding index will be all-zeros.\n",
        "        embedding_matrix[i] = embedding_vector"
      ],
      "metadata": {
        "id": "450zumM9anQM"
      },
      "execution_count": 11,
      "outputs": []
    },
    {
      "cell_type": "markdown",
      "source": [
        "# Create Model"
      ],
      "metadata": {
        "id": "yv6RSgGUaxJu"
      }
    },
    {
      "cell_type": "code",
      "source": [
        "class Attention(Layer):\n",
        "    def __init__(self, **kwargs):\n",
        "        super(Attention, self).__init__(**kwargs)\n",
        "\n",
        "    def build(self, input_shape):\n",
        "\n",
        "        self.W = self.add_weight(name=\"attention_weight\", shape=(input_shape[-1], 1), initializer=\"normal\")\n",
        "        self.b = self.add_weight(name=\"attention_bias\", shape=(input_shape[1], 1), initializer=\"zeros\")      \n",
        "\n",
        "        super(Attention, self).build(input_shape)\n",
        "\n",
        "    def call(self, x):\n",
        "\n",
        "        et = K.squeeze(K.tanh(K.dot(x, self.W) + self.b), axis=-1)\n",
        "        at = K.softmax(et)\n",
        "        at = K.expand_dims(at, axis=-1)\n",
        "        output = x * at\n",
        "        # return K.sum(output, axis=1)\n",
        "        return output\n",
        "\n",
        "    def compute_output_shape(self, input_shape):\n",
        "        return (input_shape[0], input_shape[-1])"
      ],
      "metadata": {
        "id": "f8FLQl1VatXP"
      },
      "execution_count": 13,
      "outputs": []
    },
    {
      "cell_type": "code",
      "source": [
        "# define model\n",
        "def get_model(VOCAB_SIZE, EMB_SIZE, MAX_SEQ_LENGTH, embedding_matrix):\n",
        "\n",
        "  # define layers\n",
        "  embedding_layer = Embedding(VOCAB_SIZE, EMB_SIZE, input_length=MAX_SEQ_LENGTH, weights=[embedding_matrix], mask_zero=True, name='EmbeddingLayer')\n",
        "  bilstm_layer = Bidirectional(LSTM(EMB_SIZE, dropout=0.2, activation=\"tanh\", return_sequences=True, recurrent_dropout=0.5))\n",
        "  att_layer = Attention()\n",
        "\n",
        "\n",
        "  # sentence1\n",
        "  sent1_input = Input(shape=(MAX_SEQ_LENGTH,), name='Sentence1')\n",
        "  sent1_emb = embedding_layer(sent1_input)\n",
        "  sent1_bilstm = bilstm_layer(sent1_emb)\n",
        "  sent1_att = att_layer(sent1_bilstm)\n",
        "\n",
        "\n",
        "  # sentence2\n",
        "  sent2_input = Input(shape=(MAX_SEQ_LENGTH,), name='Sentence2')\n",
        "  sent2_emb = embedding_layer(sent2_input)\n",
        "  sent2_bilstm = bilstm_layer(sent2_emb)\n",
        "  sent2_att = att_layer(sent2_bilstm)\n",
        "  \n",
        " \n",
        "  concat_layer = Concatenate(name='concatenate', axis=1)([sent1_att, sent2_att])\n",
        "  flatten = Flatten()(concat_layer)\n",
        "\n",
        "  drop_layer1 = Dropout(0.2)(flatten)\n",
        "  dense_layer1 = Dense(512, activation='relu', name='DenseLayer1')(drop_layer1)\n",
        "  dense_layer2 = Dense(128, activation='relu', name='DenseLayer2')(drop_layer1)\n",
        "  dense_layer3 = Dense(64, activation='relu', name='DenseLayer3')(dense_layer2)\n",
        "  dense_layer4 = Dense(32, activation='relu', name='DenseLayer4')(dense_layer3)\n",
        "  drop_layer2 = Dropout(0.2)(dense_layer4)\n",
        "\n",
        "  out = Dense(2, activation='softmax', name='OutputLayer')(drop_layer2)\n",
        "\n",
        "  model = Model(inputs=[sent1_input, sent2_input], outputs=out)\n",
        "\n",
        "  optimizer = optimizers.Adam(learning_rate=2e-4)\n",
        "  loss = losses.binary_crossentropy\n",
        "\n",
        "  model.compile(loss=loss, optimizer=optimizer, metrics=['accuracy', Recall(), Precision()])\n",
        "\n",
        "  return model"
      ],
      "metadata": {
        "id": "I3z0KIC3bJRo"
      },
      "execution_count": 38,
      "outputs": []
    },
    {
      "cell_type": "code",
      "source": [
        "model = get_model(VOCAB_SIZE, EMB_SIZE, MAX_SEQ_LENGTH, embedding_matrix)\n",
        "model.summary()"
      ],
      "metadata": {
        "colab": {
          "base_uri": "https://localhost:8080/"
        },
        "id": "H6iCfPdcbRzQ",
        "outputId": "0349968c-d3ed-47d7-df57-9fb3efb99fdc"
      },
      "execution_count": 16,
      "outputs": [
        {
          "output_type": "stream",
          "name": "stderr",
          "text": [
            "WARNING:tensorflow:Layer lstm will not use cuDNN kernels since it doesn't meet the criteria. It will use a generic GPU kernel as fallback when running on GPU.\n",
            "WARNING:tensorflow:Layer lstm will not use cuDNN kernels since it doesn't meet the criteria. It will use a generic GPU kernel as fallback when running on GPU.\n",
            "WARNING:tensorflow:Layer lstm will not use cuDNN kernels since it doesn't meet the criteria. It will use a generic GPU kernel as fallback when running on GPU.\n"
          ]
        },
        {
          "output_type": "stream",
          "name": "stdout",
          "text": [
            "Model: \"model\"\n",
            "__________________________________________________________________________________________________\n",
            " Layer (type)                   Output Shape         Param #     Connected to                     \n",
            "==================================================================================================\n",
            " Sentence1 (InputLayer)         [(None, 20)]         0           []                               \n",
            "                                                                                                  \n",
            " Sentence2 (InputLayer)         [(None, 20)]         0           []                               \n",
            "                                                                                                  \n",
            " EmbeddingLayer (Embedding)     (None, 20, 100)      1201700     ['Sentence1[0][0]',              \n",
            "                                                                  'Sentence2[0][0]']              \n",
            "                                                                                                  \n",
            " bidirectional (Bidirectional)  (None, 20, 200)      160800      ['EmbeddingLayer[0][0]',         \n",
            "                                                                  'EmbeddingLayer[1][0]']         \n",
            "                                                                                                  \n",
            " attention (Attention)          (None, 20, 200)      220         ['bidirectional[0][0]',          \n",
            "                                                                  'bidirectional[1][0]']          \n",
            "                                                                                                  \n",
            " concatenate (Concatenate)      (None, 40, 200)      0           ['attention[0][0]',              \n",
            "                                                                  'attention[1][0]']              \n",
            "                                                                                                  \n",
            " flatten (Flatten)              (None, 8000)         0           ['concatenate[0][0]']            \n",
            "                                                                                                  \n",
            " dropout (Dropout)              (None, 8000)         0           ['flatten[0][0]']                \n",
            "                                                                                                  \n",
            " DenseLayer2 (Dense)            (None, 128)          1024128     ['dropout[0][0]']                \n",
            "                                                                                                  \n",
            " DenseLayer3 (Dense)            (None, 64)           8256        ['DenseLayer2[0][0]']            \n",
            "                                                                                                  \n",
            " DenseLayer4 (Dense)            (None, 32)           2080        ['DenseLayer3[0][0]']            \n",
            "                                                                                                  \n",
            " dropout_1 (Dropout)            (None, 32)           0           ['DenseLayer4[0][0]']            \n",
            "                                                                                                  \n",
            " OutputLayer (Dense)            (None, 2)            66          ['dropout_1[0][0]']              \n",
            "                                                                                                  \n",
            "==================================================================================================\n",
            "Total params: 2,397,250\n",
            "Trainable params: 2,397,250\n",
            "Non-trainable params: 0\n",
            "__________________________________________________________________________________________________\n"
          ]
        }
      ]
    },
    {
      "cell_type": "markdown",
      "source": [
        "# Train model"
      ],
      "metadata": {
        "id": "8r_U0MoQbZQE"
      }
    },
    {
      "cell_type": "code",
      "source": [
        "y_train = np.array(to_categorical(train.label), dtype=int)\n",
        "y_valid = np.array(to_categorical(valid.label), dtype=int)\n",
        "y_test = np.array(to_categorical(test.label), dtype=int)\n",
        "\n",
        "max_epoch = 7"
      ],
      "metadata": {
        "id": "hFhT5QnRbbGy"
      },
      "execution_count": 19,
      "outputs": []
    },
    {
      "cell_type": "code",
      "source": [
        "siamese_model = model.fit(\n",
        "    [train_sent1, train_sent2],\n",
        "    y_train,\n",
        "    validation_data = ([valid_sent1, valid_sent2], y_valid),\n",
        "    epochs=max_epoch,\n",
        "    verbose=1,\n",
        "    batch_size=128,\n",
        ")"
      ],
      "metadata": {
        "colab": {
          "base_uri": "https://localhost:8080/"
        },
        "id": "Z8x7Bd8_d4I8",
        "outputId": "2adfe511-54bb-4a59-9397-d04e8c857328"
      },
      "execution_count": 20,
      "outputs": [
        {
          "output_type": "stream",
          "name": "stdout",
          "text": [
            "Epoch 1/7\n",
            "29/29 [==============================] - 40s 662ms/step - loss: 0.6438 - accuracy: 0.6620 - recall: 0.6620 - precision: 0.6620 - val_loss: 0.5909 - val_accuracy: 0.7174 - val_recall: 0.7174 - val_precision: 0.7174\n",
            "Epoch 2/7\n",
            "29/29 [==============================] - 18s 611ms/step - loss: 0.6143 - accuracy: 0.6708 - recall: 0.6708 - precision: 0.6708 - val_loss: 0.5869 - val_accuracy: 0.7174 - val_recall: 0.7174 - val_precision: 0.7174\n",
            "Epoch 3/7\n",
            "29/29 [==============================] - 16s 547ms/step - loss: 0.6117 - accuracy: 0.6708 - recall: 0.6708 - precision: 0.6708 - val_loss: 0.5940 - val_accuracy: 0.7174 - val_recall: 0.7174 - val_precision: 0.7174\n",
            "Epoch 4/7\n",
            "29/29 [==============================] - 14s 492ms/step - loss: 0.6109 - accuracy: 0.6708 - recall: 0.6708 - precision: 0.6708 - val_loss: 0.5984 - val_accuracy: 0.7174 - val_recall: 0.7174 - val_precision: 0.7174\n",
            "Epoch 5/7\n",
            "29/29 [==============================] - 17s 577ms/step - loss: 0.6121 - accuracy: 0.6708 - recall: 0.6708 - precision: 0.6708 - val_loss: 0.6032 - val_accuracy: 0.7174 - val_recall: 0.7174 - val_precision: 0.7174\n",
            "Epoch 6/7\n",
            "29/29 [==============================] - 15s 533ms/step - loss: 0.6102 - accuracy: 0.6708 - recall: 0.6708 - precision: 0.6708 - val_loss: 0.6007 - val_accuracy: 0.7174 - val_recall: 0.7174 - val_precision: 0.7174\n",
            "Epoch 7/7\n",
            "29/29 [==============================] - 14s 485ms/step - loss: 0.6108 - accuracy: 0.6708 - recall: 0.6708 - precision: 0.6708 - val_loss: 0.5974 - val_accuracy: 0.7174 - val_recall: 0.7174 - val_precision: 0.7174\n"
          ]
        }
      ]
    },
    {
      "cell_type": "code",
      "source": [
        "plt.style.use('ggplot')\n",
        "\n",
        "plt.plot(siamese_model.history['loss'])\n",
        "plt.plot(siamese_model.history['val_loss'])\n",
        "plt.title('Model Loss')\n",
        "plt.ylabel('loss')\n",
        "plt.xlabel('epoch')\n",
        "plt.legend(['train', 'validation'], loc='upper left')\n",
        "plt.show()"
      ],
      "metadata": {
        "colab": {
          "base_uri": "https://localhost:8080/",
          "height": 477
        },
        "id": "eDGIiOYEfkLe",
        "outputId": "77871d39-2fdf-4999-8506-ae63bd50da9f"
      },
      "execution_count": 27,
      "outputs": [
        {
          "output_type": "display_data",
          "data": {
            "text/plain": [
              "<Figure size 640x480 with 1 Axes>"
            ],
            "image/png": "[encoded data removed]"
          },
          "metadata": {}
        }
      ]
    },
    {
      "cell_type": "markdown",
      "source": [
        "# Test model"
      ],
      "metadata": {
        "id": "_juiB9p3jSAl"
      }
    },
    {
      "cell_type": "code",
      "source": [
        "import warnings\n",
        "warnings.filterwarnings('ignore')\n",
        "\n",
        "predictions = model.predict([test_sent1, test_sent2])\n",
        "\n",
        "pred_labels = [np.argmax(predictions[i]) for i in range(len(y_test))]\n",
        "\n",
        "y_test = test.label.astype(int)\n",
        "\n",
        "print(classification_report(y_test, pred_labels, target_names=['Class 0', 'Class 1'], zero_division='warn'))"
      ],
      "metadata": {
        "colab": {
          "base_uri": "https://localhost:8080/"
        },
        "id": "H8PvWO7lf4rX",
        "outputId": "3e1adae4-b3fb-4721-c67d-b9d5bb208755"
      },
      "execution_count": 36,
      "outputs": [
        {
          "output_type": "stream",
          "name": "stdout",
          "text": [
            "54/54 [==============================] - 3s 49ms/step\n",
            "              precision    recall  f1-score   support\n",
            "\n",
            "     Class 0       0.00      0.00      0.00       578\n",
            "     Class 1       0.66      1.00      0.80      1147\n",
            "\n",
            "    accuracy                           0.66      1725\n",
            "   macro avg       0.33      0.50      0.40      1725\n",
            "weighted avg       0.44      0.66      0.53      1725\n",
            "\n"
          ]
        }
      ]
    },
    {
      "cell_type": "code",
      "source": [
        "print(\"Test Accuracy:\", accuracy_score(y_test, pred_labels)) \n",
        "print('Test Precision (micro):', precision_score(y_test, pred_labels, average='micro'))\n",
        "print('Test Recall (micro):', recall_score(y_test, pred_labels, average='micro'))\n",
        "print('Test F1 Score (micro):', f1_score(y_test, pred_labels, average='micro'))\n",
        "print('Test Precision (macro):', precision_score(y_test, pred_labels, average='macro'))\n",
        "print('Test Recall (macro):', recall_score(y_test, pred_labels, average='macro'))\n",
        "print('Test F1 Score (macro):', f1_score(y_test, pred_labels, average='macro'))"
      ],
      "metadata": {
        "colab": {
          "base_uri": "https://localhost:8080/"
        },
        "id": "y95M53iNig-G",
        "outputId": "fd4efb2a-f54e-4705-903d-4542b3db4ff7"
      },
      "execution_count": 37,
      "outputs": [
        {
          "output_type": "stream",
          "name": "stdout",
          "text": [
            "Test Accuracy: 0.664927536231884\n",
            "Test Precision (micro): 0.664927536231884\n",
            "Test Recall (micro): 0.664927536231884\n",
            "Test F1 Score (micro): 0.664927536231884\n",
            "Test Precision (macro): 0.332463768115942\n",
            "Test Recall (macro): 0.5\n",
            "Test F1 Score (macro): 0.3993732590529248\n"
          ]
        }
      ]
    },
    {
      "cell_type": "code",
      "source": [
        "data_index = 500\n",
        " \n",
        "print(\"sentence1:\")\n",
        "print(test.sentence1[data_index])\n",
        "print(\"sentence2:\")\n",
        "print(test.sentence2[data_index])\n",
        "print(\"*************************\")\n",
        "\n",
        "sent1 = []\n",
        "sent2 = []\n",
        "\n",
        "for index in test_sent1[data_index]:\n",
        "    if index == 0:\n",
        "        sent1.append('PAD')\n",
        "    else:\n",
        "        sent1.append(tokenizer.index_word[index])\n",
        "\n",
        "for index in test_sent2[data_index]:\n",
        "    if index == 0:\n",
        "        sent2.append('PAD')\n",
        "    else:\n",
        "        sent2.append(tokenizer.index_word[index])\n",
        "\n",
        "print(\"prediction:\", pred_labels[data_index])\n",
        "print(\"true labels:\", y_test[data_index])"
      ],
      "metadata": {
        "colab": {
          "base_uri": "https://localhost:8080/"
        },
        "id": "PNF8R4jLkwnp",
        "outputId": "29e40c91-ae6c-4578-88f4-b8733242b508"
      },
      "execution_count": 45,
      "outputs": [
        {
          "output_type": "stream",
          "name": "stdout",
          "text": [
            "sentence1:\n",
            "The European Union was due Monday to demand Iran accept \"urgently and unconditionally\" tougher nuclear inspections and to link compliance with a pending trade deal.\n",
            "sentence2:\n",
            "The European Union was due on Monday to demand that Iran accept \"urgently and unconditionally\" tougher inspections of its nuclear program, linking compliance to a pending trade deal.\n",
            "*************************\n",
            "prediction: 1\n",
            "true labels: 1\n"
          ]
        }
      ]
    }
  ]
}